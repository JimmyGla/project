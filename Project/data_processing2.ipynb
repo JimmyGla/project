{
 "cells": [
  {
   "cell_type": "markdown",
   "metadata": {},
   "source": [
    "# Import the necessary libraries"
   ]
  },
  {
   "cell_type": "code",
   "execution_count": 1,
   "metadata": {},
   "outputs": [
    {
     "name": "stderr",
     "output_type": "stream",
     "text": [
      "C:\\ProgramData\\Anaconda3\\lib\\site-packages\\h5py\\__init__.py:36: FutureWarning: Conversion of the second argument of issubdtype from `float` to `np.floating` is deprecated. In future, it will be treated as `np.float64 == np.dtype(float).type`.\n",
      "  from ._conv import register_converters as _register_converters\n"
     ]
    }
   ],
   "source": [
    "import h5py\n",
    "import numpy as np\n",
    "import matplotlib.pyplot as plt\n",
    "import pandas as pd\n",
    "import os\n",
    "import math\n",
    "from loop_analysis import *\n",
    "from sklearn.linear_model import LinearRegression"
   ]
  },
  {
   "cell_type": "code",
   "execution_count": 42,
   "metadata": {},
   "outputs": [
    {
     "data": {
      "text/plain": [
       "1.0"
      ]
     },
     "execution_count": 42,
     "metadata": {},
     "output_type": "execute_result"
    }
   ],
   "source": [
    "filefactor = str(file_name).split(\"_\")[0] + str('.') + str(file_name).split(\"_\")[1]\n",
    "float(filefactor)"
   ]
  },
  {
   "cell_type": "markdown",
   "metadata": {},
   "source": [
    "## Plot averaged loops"
   ]
  },
  {
   "cell_type": "code",
   "execution_count": 13,
   "metadata": {},
   "outputs": [],
   "source": [
    "pi = 45\n",
    "direction = 'y'\n",
    "file_name = 'ew45m2.h5'\n",
    "signal_type = 'woll1_diff'\n",
    "############################################# Load file data ###################################################################\n",
    "#folder_name = r'C:\\Users\\migels\\Miguel\\PhD\\MOKE\\Measures\\W1\\Measurement2\\Pi'+str(pi)+'\\B'+str(direction)\n",
    "folder_name = r'C:\\Users\\migels\\Miguel\\PhD\\MOKE\\Measures\\NdCo520nm\\B'+str(direction)\n",
    "filepath = os.path.join(folder_name, file_name)\n",
    "data = get_averaged_loop(filepath,1000)\n",
    "# Correct the difference and sum of signals from the detectors\n",
    "data['woll1_diff'] = data['woll1_det1'] - data['woll1_det2']\n",
    "data['woll1_sum'] = data['woll1_det1'] + data['woll1_det2']\n",
    "## Title construction\n",
    "# What we are measuring: rotation or ellipticity\n",
    "if file_name[0] == 'e': \n",
    "    mtype = 'ellipticity'\n",
    "else:\n",
    "    mtype = 'rotation'\n",
    "# How we are using our prism\n",
    "if file_name[2] == str(4):\n",
    "    if file_name[4] == 'm':\n",
    "        wollo = 'wollaston at 45 manually'        \n",
    "    else:\n",
    "        wollo = 'wollaston at 45 based on detectors'\n",
    "else:\n",
    "    wollo = 'wollaston aligned with s and p'   \n",
    "  \n",
    "incidence_angle = (180 - 2*pi)/2\n",
    "full_title = 'NdCo5 ' + str(mtype) + ' with ' + str(wollo) + ' at ' + str(incidence_angle)+ ' deg'  \n",
    "################################################################################################################################\n",
    "############################################### Here we choose what signal to use ##############################################\n",
    "cutoff1 = -30\n",
    "cutoff2 = 30\n",
    "################################################################################################################################\n",
    "######################################### Extract the data and manipulate ######################################################\n",
    "# Get magnetic field on sample reference frame\n",
    "y = data[signal_type]\n",
    "y,a = straighten_loop(data,cutoff1,cutoff2,direction,signal_type)\n",
    "bxt = np.array(data['fields_X'])\n",
    "byt = np.array(data['fields_Y'])\n",
    "bzt = np.array(data['fields_Z'])\n",
    "Bxsample = []\n",
    "for i in range(len(bxt)):\n",
    "    aux = math.sqrt(bxt[i]**2 + bzt[i]**2)\n",
    "    if bxt[i] < 0:\n",
    "        Bxsample.append(-aux)\n",
    "    else:\n",
    "        Bxsample.append(aux)\n",
    "\n",
    "# Create figure\n",
    "%matplotlib qt\n",
    "fig=plt.figure(figsize=(9, 5), dpi= 200, facecolor='w', edgecolor='k')\n",
    "plt.rcParams.update({'font.size': 16})\n",
    "if direction=='x':\n",
    "    plt.plot(Bxsample, y, linewidth = 3)\n",
    "else:\n",
    "    plt.plot(byt, y, linewidth = 3)\n",
    "plt.grid()\n",
    "plt.xlabel('B' + str(direction) + ' [mT]')\n",
    "if signal_type == 'woll1_diff': tipo = ' difference '\n",
    "if signal_type == 'woll1_sum': tipo = ' sum '\n",
    "if signal_type == 'woll1_det1': tipo = ' detector 1 '\n",
    "if signal_type == 'woll1_det2': tipo = ' detector 2 '    \n",
    "plt.ylabel('MOKE' + tipo + 'signal')\n",
    "#plt.xlim(-9,9)\n",
    "plt.title(full_title)\n",
    "plt.tight_layout()\n",
    "saving_name = os.path.splitext(filepath)[0]+'_'+signal_type+'.png'\n",
    "#plt.savefig(saving_name)"
   ]
  },
  {
   "cell_type": "markdown",
   "metadata": {},
   "source": [
    "## Demagnetization"
   ]
  },
  {
   "cell_type": "code",
   "execution_count": 83,
   "metadata": {},
   "outputs": [],
   "source": [
    "file_name = '1_8.h5'\n",
    "mtype = 'Samp'\n",
    "signal_type = 'woll1_diff'\n",
    "direction = 'x'\n",
    "OAMPS = np.array([3,1.3,1.08,1.03,1.01,0.99])\n",
    "############################################# Load file data ###################################################################\n",
    "folder_name = r'C:\\Users\\user\\Desktop\\Miguel\\Demag\\\\' + str(mtype)\n",
    "filepath = os.path.join(folder_name, file_name)\n",
    "data = get_averaged_loop(filepath,1000)\n",
    "# Correct the difference and sum of signals from the detectors\n",
    "data['woll1_diff'] = data['woll1_det1'] - data['woll1_det2']\n",
    "data['woll1_sum'] = data['woll1_det1'] + data['woll1_det2']\n",
    "\n",
    "################################################################################################################################\n",
    "############################################### Here we choose what signal to use ##############################################\n",
    "cutoff1 = -2\n",
    "cutoff2 = 6\n",
    "################################################################################################################################\n",
    "######################################### Extract the data and manipulate ######################################################\n",
    "# Get magnetic field on sample reference frame\n",
    "y = data[signal_type]\n",
    "y,a = straighten_loop(data,cutoff1,cutoff2,direction,signal_type)\n",
    "\n",
    "\n",
    "#mn = np.min(y)\n",
    "#mx = np.max(y)\n",
    "#dif = abs(mx - mn)\n",
    "#if mn < 0:\n",
    "#    y = y + abs(mn) - dif/2\n",
    "#else:\n",
    "#    y = y - abs(mn) - dif/2\n",
    "\n",
    "\n",
    "bxt = np.array(data['fields_X'])\n",
    "byt = np.array(data['fields_Y'])\n",
    "bzt = np.array(data['fields_Z'])\n",
    "Bxsample = []\n",
    "for i in range(len(bxt)):\n",
    "    aux = math.sqrt(bxt[i]**2 + bzt[i]**2)\n",
    "    if bxt[i] < 0:\n",
    "        Bxsample.append(-aux)\n",
    "    else:\n",
    "        Bxsample.append(aux)\n",
    "\n",
    "# Create figure\n",
    "%matplotlib qt\n",
    "fig, ax = plt.subplots(figsize=(9, 5), dpi= 200, facecolor='w', edgecolor='k')\n",
    "plt.rcParams.update({'font.size': 16})\n",
    "if direction=='x':\n",
    "    plt.plot(Bxsample, y, linewidth = 3)\n",
    "else:\n",
    "    plt.plot(byt, y, linewidth = 3)\n",
    "plt.grid()\n",
    "\n",
    "if mtype == 'MultipleAmalio': ftitle = 'Varying the initial amplitudes in unison by a factor ' + str(file_name).split(\".\")[0]\n",
    "if mtype == 'FreqVar': ftitle = 'Duration of signal at ' + str(file_name).split(\".\")[0] + ' s'\n",
    "if mtype == 'Samp': ftitle = 'Second amplitude of sinusoid at ' + str(file_name).split(\".\")[0]\n",
    "\n",
    "number = str(file_name).split(\".\")[0]\n",
    "filefactor = str(number).split(\"_\")[0] + str('.') + str(number).split(\"_\")[1]\n",
    "filefactor = float(filefactor)\n",
    "\n",
    "if mtype == 'MultipleAmalio': OAMPS = OAMPS*filefactor\n",
    "if mtype == 'Samp': OAMPS[1] = filefactor\n",
    "textstr = '\\n'.join((\n",
    "    r'$A1=%.3f$' % (OAMPS[0], ),\n",
    "    r'$A2=%.3f$' % (OAMPS[1], ),\n",
    "    r'$A3=%.3f$' % (OAMPS[2], ),\n",
    "    r'$A4=%.3f$' % (OAMPS[3], ),\n",
    "    r'$A5=%.3f$' % (OAMPS[4], ),\n",
    "    r'$A6=%.3f$' % (OAMPS[5], )))\n",
    "ax.text(0.85, 0.98, textstr, transform=ax.transAxes, fontsize=10, verticalalignment='top')\n",
    "plt.title(ftitle)\n",
    "plt.xlabel('Bx [mT]')\n",
    "plt.ylabel('MOKE differential signal')\n",
    "plt.tight_layout()\n",
    "saving_name = os.path.splitext(filepath)[0]+'.png'\n",
    "plt.savefig(saving_name)"
   ]
  },
  {
   "cell_type": "markdown",
   "metadata": {},
   "source": [
    "## B field analysis"
   ]
  },
  {
   "cell_type": "code",
   "execution_count": null,
   "metadata": {},
   "outputs": [],
   "source": [
    "# Get the folder and file\n",
    "pi = 30\n",
    "folder_name = r'C:\\Users\\migels\\Miguel\\PhD\\MOKE\\Measures\\W1\\Pi '+str(pi)+'\\Bx'\n",
    "file_name = 'noqw.h5'\n",
    "\n",
    "# Extract the data and manipulate\n",
    "filepath = os.path.join(folder_name, file_name)\n",
    "data = get_averaged_loop(filepath,1000)\n",
    "x = np.array(data['fields_X'])\n",
    "z = np.array(data['fields_Z'])\n",
    "ang = []\n",
    "for i in range(len(x)):\n",
    "        ang.append(abs(math.degrees(math.atan(z[i]/x[i]))))\n",
    "\n",
    "# Here we plot the magnetic field in the three directions of the table reference frame and the angle that the field makes with x\n",
    "# of the table\n",
    "fig, ax1 = plt.subplots(figsize=(16, 15))\n",
    "ax2 = ax1.twinx()\n",
    "ax1.grid()\n",
    "l1, = ax1.plot(data['t'], data['fields_X'], 'b-')\n",
    "l1.set_label('Bx')\n",
    "l2, = ax1.plot(data['t'], data['fields_Y'], 'g-')\n",
    "l2.set_label('By')\n",
    "l3, = ax1.plot(data['t'], data['fields_Z'], 'r-')\n",
    "l3.set_label('Bz')\n",
    "ax2.plot(data['t'],ang,color='purple')\n",
    "ax1.legend()\n",
    "plt.title('Study of magnetic fields (in table reference frame)')\n",
    "ax1.set_xlabel('t [s]')\n",
    "ax2.set_ylabel('Pi angle [°]', color='purple')\n",
    "ax1.set_ylabel('B [mT]')\n",
    "\n",
    "fig2=plt.figure(figsize=(6, 5), dpi= 200, facecolor='w', edgecolor='k')\n",
    "\n",
    "plt.grid()\n",
    "plt.plot(x,z)\n",
    "plt.title('Study of magnetic fields (in table reference frame)')\n",
    "plt.xlabel('Bx [mT]')\n",
    "plt.ylabel('By [mT]')\n",
    "plt.tight_layout()\n",
    "saving_name = 'magfield.png'\n",
    "plt.savefig(saving_name)"
   ]
  },
  {
   "cell_type": "markdown",
   "metadata": {},
   "source": [
    "## Plot single loop"
   ]
  },
  {
   "cell_type": "markdown",
   "metadata": {},
   "source": [
    "To plot a certain magnetic field direction we need the following input:\n",
    "    Bx --> direction = 1\n",
    "    By --> direction = 2\n",
    "    Bz --> direction = 3"
   ]
  },
  {
   "cell_type": "code",
   "execution_count": null,
   "metadata": {},
   "outputs": [],
   "source": [
    "direction = 1\n",
    "loop_number = 15\n",
    "direction2 = 1\n",
    "loop_number2 = 2"
   ]
  },
  {
   "cell_type": "code",
   "execution_count": null,
   "metadata": {},
   "outputs": [],
   "source": [
    "w1dif,w2dif,hall = plot_single_loop(filepath, direction, loop_number)\n",
    "fig=plt.figure(figsize=(6, 3), dpi= 300, facecolor='w', edgecolor='k')\n",
    "plt.rcParams.update({'font.size': 16})\n",
    "plt.plot(hall,w1dif,linewidth=0.3)\n",
    "plt.xlabel('B [mT]')\n",
    "plt.ylabel('MOKE signal')\n",
    "plt.tight_layout()\n",
    "plt.show()"
   ]
  },
  {
   "cell_type": "markdown",
   "metadata": {},
   "source": [
    "## Magnetic field study"
   ]
  },
  {
   "cell_type": "code",
   "execution_count": null,
   "metadata": {},
   "outputs": [],
   "source": [
    "hall = get_magnetic_field(filepath, direction, loop_number)\n",
    "hall2 = get_magnetic_field(filepath, direction2, loop_number2)\n",
    "fig=plt.figure(figsize=(6, 3), dpi= 300, facecolor='w', edgecolor='k')\n",
    "plt.rcParams.update({'font.size': 16})\n",
    "plt.plot(hall,linewidth=0.3)\n",
    "plt.plot(hall2,linewidth=0.3,color='red')\n",
    "plt.xlabel('Samples')\n",
    "plt.ylabel('B [mT]')\n",
    "plt.tight_layout()\n",
    "plt.show()"
   ]
  }
 ],
 "metadata": {
  "kernelspec": {
   "display_name": "Python 3",
   "language": "python",
   "name": "python3"
  },
  "language_info": {
   "codemirror_mode": {
    "name": "ipython",
    "version": 3
   },
   "file_extension": ".py",
   "mimetype": "text/x-python",
   "name": "python",
   "nbconvert_exporter": "python",
   "pygments_lexer": "ipython3",
   "version": "3.7.4"
  }
 },
 "nbformat": 4,
 "nbformat_minor": 2
}
